{
 "cells": [
  {
   "cell_type": "code",
   "execution_count": null,
   "metadata": {},
   "outputs": [],
   "source": [
    "from fantasy_football_gym import FantasyFootball\n",
    "\n",
    "env = FantasyFootball()\n",
    "\n",
    "env"
   ]
  },
  {
   "cell_type": "code",
   "execution_count": null,
   "metadata": {},
   "outputs": [],
   "source": [
    "from stable_baselines3 import PPO\n",
    "\n",
    "name = 'PPO_lr_001'\n",
    "\n",
    "model = PPO(\n",
    "    'MlpPolicy', \n",
    "    env, \n",
    "    learning_rate=0.001, \n",
    "    gamma=1, \n",
    "    verbose=1, \n",
    "    seed=22, \n",
    "    tensorboard_log=f'./tensorboard_logs/{name}'\n",
    ")\n",
    "\n",
    "total_episodes = 50_000\n",
    "episodes_per_loop = 2_500\n",
    "num_loops = total_episodes//episodes_per_loop\n",
    "\n",
    "for i in range(1, num_loops+1):\n",
    "    model.learn(total_timesteps=episodes_per_loop*16, reset_num_timesteps=False, log_interval=128)\n",
    "    model.save(f'./models/{name}/{episodes_per_loop*i:06d}_episodes')\n",
    "\n",
    "'Done'"
   ]
  },
  {
   "cell_type": "code",
   "execution_count": null,
   "metadata": {},
   "outputs": [],
   "source": [
    "import numpy as np\n",
    "\n",
    "np.random.seed(22)\n",
    "env = FantasyFootball()\n",
    "\n",
    "observation = env.reset()\n",
    "\n",
    "done = False\n",
    "while not done:\n",
    "    print(observation)\n",
    "    action = model.predict(observation, deterministic=True)[0]\n",
    "    print(action)\n",
    "    observation, reward, done, info = env.step(action)\n",
    "\n",
    "reward"
   ]
  }
 ],
 "metadata": {
  "kernelspec": {
   "display_name": "sb3",
   "language": "python",
   "name": "python3"
  },
  "language_info": {
   "codemirror_mode": {
    "name": "ipython",
    "version": 3
   },
   "file_extension": ".py",
   "mimetype": "text/x-python",
   "name": "python",
   "nbconvert_exporter": "python",
   "pygments_lexer": "ipython3",
   "version": "3.8.13"
  }
 },
 "nbformat": 4,
 "nbformat_minor": 2
}
